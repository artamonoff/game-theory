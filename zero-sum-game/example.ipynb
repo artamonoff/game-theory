{
 "cells": [
  {
   "cell_type": "markdown",
   "id": "9be69c90",
   "metadata": {},
   "source": [
    "# Пример 1"
   ]
  },
  {
   "cell_type": "code",
   "execution_count": 1,
   "id": "ddb5bcf1",
   "metadata": {},
   "outputs": [],
   "source": [
    "# Работа с матрицами\n",
    "import numpy as np\n",
    "# Линейное программирование\n",
    "from scipy.optimize import linprog"
   ]
  },
  {
   "cell_type": "markdown",
   "id": "0ec75376",
   "metadata": {},
   "source": [
    "Двое играют на деньги, одновременно называя одно из чисел 1 или 2, \n",
    "и потом считая сумму $S$. Если $S$ четная, то первый выигрывает у второго $S$ долларов,\n",
    "если $S$ нечетная, то второй выигрывает у первого $S$ долларов. \n",
    "\n",
    "Матрица игры\n",
    "$$\n",
    "\tA=\\begin{pmatrix} 2 & -3 \\\\ -3 & 4\\end{pmatrix}\n",
    "$$"
   ]
  },
  {
   "cell_type": "code",
   "execution_count": 2,
   "id": "3af92675",
   "metadata": {},
   "outputs": [
    {
     "name": "stdout",
     "output_type": "stream",
     "text": [
      "[[ 2 -3]\n",
      " [-3  4]]\n"
     ]
    }
   ],
   "source": [
    "# Pay-off matrix\n",
    "A = np.array([ [2, -3], [-3, 4] ])\n",
    "print(A)"
   ]
  },
  {
   "cell_type": "markdown",
   "id": "01201884",
   "metadata": {},
   "source": [
    "## Верхняя и нижняя цена игры\n",
    "\n",
    "\\begin{align*}\n",
    "    \\overline{\\nu}&=\\min_{j}\\max_i a_{ij} & \\underline{\\nu}&=\\max_i\\min_j a_{ij}\n",
    "\\end{align*}"
   ]
  },
  {
   "cell_type": "code",
   "execution_count": 3,
   "id": "8d18cdaf",
   "metadata": {},
   "outputs": [
    {
     "data": {
      "text/plain": [
       "-3"
      ]
     },
     "execution_count": 3,
     "metadata": {},
     "output_type": "execute_result"
    }
   ],
   "source": [
    "# Нижняя цена игры\n",
    "max( A.min(axis=1) )"
   ]
  },
  {
   "cell_type": "code",
   "execution_count": 4,
   "id": "a1a4feb1",
   "metadata": {},
   "outputs": [
    {
     "data": {
      "text/plain": [
       "2"
      ]
     },
     "execution_count": 4,
     "metadata": {},
     "output_type": "execute_result"
    }
   ],
   "source": [
    "# Верхняя цена игры\n",
    "min( A.max(axis=0) )"
   ]
  },
  {
   "cell_type": "markdown",
   "id": "b7a3146a",
   "metadata": {},
   "source": [
    "Они не равны $\\Longrightarrow$ нет равновесия Нэша в чистых стратегиях"
   ]
  },
  {
   "cell_type": "markdown",
   "id": "82697a47",
   "metadata": {},
   "source": [
    "## Равновесие Нэша в чистых стратегиях"
   ]
  },
  {
   "cell_type": "code",
   "execution_count": 5,
   "id": "b53c47fd",
   "metadata": {},
   "outputs": [
    {
     "name": "stdout",
     "output_type": "stream",
     "text": [
      "[['No ' 'No ']\n",
      " ['No ' 'No ']]\n"
     ]
    }
   ],
   "source": [
    "Nash_eq = np.full(A.shape, 'No ')\n",
    "\n",
    "for i in range(A.shape[0]):\n",
    "    for j in range(A.shape[1]):\n",
    "        if (A[i,j]==max(A[:,j])) & (A[i,j]==min(A[i,:])):\n",
    "            Nash_eq[i,j]='Yes'\n",
    "\n",
    "print(Nash_eq)"
   ]
  },
  {
   "cell_type": "markdown",
   "id": "cbcdae4a",
   "metadata": {},
   "source": [
    "## Ожидаемый выигрыш\n",
    "Предположим, что игроки следуют смешанным стратегиям \n",
    "\\begin{align*}\n",
    "    P^\\top&=\\begin{pmatrix} 0.3 & 0.7\\end{pmatrix} & \n",
    "    Q^\\top&=\\begin{pmatrix} 0.25 & 0.75\\end{pmatrix}.\n",
    "\\end{align*}\n",
    "Ожидаемый выигрыш каждого из игроков:\n",
    "\n",
    "- Ожидаемый выигрыш первого $EU_A(P,Q)=P^\\top AQ$\n",
    "- Ожидаемый выигрыш второго $EU_B(P,Q)=-EU_A(P,Q)$"
   ]
  },
  {
   "cell_type": "code",
   "execution_count": 6,
   "id": "d340fa5b",
   "metadata": {},
   "outputs": [
    {
     "data": {
      "text/plain": [
       "1.0499999999999998"
      ]
     },
     "execution_count": 6,
     "metadata": {},
     "output_type": "execute_result"
    }
   ],
   "source": [
    "P = np.array([0.3, 0.7])\n",
    "Q = np.array([0.25, 0.75])\n",
    "# Ожидаемый выигрыш. @ - матричное умножение в numpy\n",
    "P.T@A@Q"
   ]
  },
  {
   "cell_type": "markdown",
   "id": "27c0c598",
   "metadata": {},
   "source": [
    "## Равновесие Нэша в смешанных стратегиях\n",
    "Библиотека `scipy.optimize.linprog` [решает](https://docs.scipy.org/doc/scipy/tutorial/optimize.html#linear-programming-linprog) задачу линейного программирования в виде\n",
    "\\begin{gather*}\n",
    "    \\min c^\\top x \\\\ s.t.\\left\\{\\begin{aligned} \n",
    "    A_{ub}x &\\leq b_{ub} \\\\ A_{eq}x &= b_{eq} \\\\ l\\leq x&\\leq u\n",
    "    \\end{aligned}\\right.\n",
    "\\end{gather*}\n",
    "**Важно**: по умолчанию в `linprog` используются ограничения неотрицательности переменных\n",
    "\n",
    "Матрица $A$ имеет отрицательные элементы $\\Longrightarrow$ для задачи оптимизации все элементы матрицы $A$ нужно сдвинуть на одну и ту же величину, чтобы они стали положительными.\n",
    "Например, на 4 (переменная `shift`).\n",
    "\n",
    "### Первый игрок\n",
    "Первый игрок решает задачу оптимизации\n",
    "\\begin{gather*}\n",
    "    \\begin{gathered} \\min 1^\\top x\\\\ s.t. \\left\\{\\begin{aligned}\n",
    "    (A+4)^\\top x &\\geq 1 \\\\ x&\\geq0\n",
    "    \\end{aligned}\\right.\n",
    "    \\end{gathered} \\Longrightarrow \n",
    "    \\begin{gathered} \\min c^\\top x\\\\ s.t. \\left\\{\\begin{aligned}\n",
    "    A_{ub} x &\\leq b_{ub} \\\\ 0&\\leq x\n",
    "    \\end{aligned}\\right.\n",
    "    \\end{gathered}\n",
    "\\end{gather*}\n",
    "где $c^\\top=\\begin{pmatrix} 1 & 1 \\end{pmatrix}$, $b^\\top_{ub}=\\begin{pmatrix} -1 & -1 \\end{pmatrix}$, $A_{ub}=-A^\\top-4$\n",
    "\n",
    "Пусть в задаче на $\\min$: $\\hat{x}$ - оптимальное решение, $\\hat{f}$ - оптимальное значение целевой функции. Тогда\n",
    "\n",
    "- Цена игры (ожидаемый выигрыш первого) $1/\\hat{f}-4$\n",
    "- равновесная стратегия первого игрока $P^*=\\hat{x}/\\hat{f}$"
   ]
  },
  {
   "cell_type": "code",
   "execution_count": 7,
   "id": "ab6b01e5",
   "metadata": {},
   "outputs": [
    {
     "data": {
      "text/plain": [
       "(array([0.58333333, 0.41666667]), -0.08333333333333304)"
      ]
     },
     "execution_count": 7,
     "metadata": {},
     "output_type": "execute_result"
    }
   ],
   "source": [
    "c = np.array([1,1])\n",
    "b = np.array([-1, -1])\n",
    "\n",
    "shift = 4\n",
    "\n",
    "res = linprog(c, A_ub=-A.T-shift, b_ub=b)\n",
    "\n",
    "# цена игры\n",
    "value1 = 1/res.fun-shift\n",
    "# равновесная стратегия\n",
    "P_star = res.x/res.fun\n",
    "\n",
    "P_star, value1"
   ]
  },
  {
   "cell_type": "markdown",
   "id": "4354abdc",
   "metadata": {},
   "source": [
    "### Второй игрок\n",
    "Второй игрок решает задачу оптимизации\n",
    "\\begin{gather*}\n",
    "    \\begin{gathered} \\max 1^\\top y\\\\ s.t. \\left\\{\\begin{aligned}\n",
    "    (A+4) y &\\leq 1 \\\\ y&\\geq0\n",
    "    \\end{aligned}\\right.\n",
    "    \\end{gathered} \\Longrightarrow \n",
    "    \\begin{gathered} \\min c^\\top y\\\\ s.t. \\left\\{\\begin{aligned}\n",
    "    A_{ub} y &\\leq b_{ub} \\\\ 0&\\leq y\n",
    "    \\end{aligned}\\right.\n",
    "    \\end{gathered}\n",
    "\\end{gather*}\n",
    "где $c^\\top=\\begin{pmatrix} -1 & -1 \\end{pmatrix}$, $b^\\top_{ub}=\\begin{pmatrix} 1 & 1 \\end{pmatrix}$, $A_{ub}=A+4$\n",
    "\n",
    "Пусть в задаче на $\\min$: $\\hat{x}$ - оптимальное решение, $\\hat{f}$ - оптимальное значение целевой функции. Тогда\n",
    "\n",
    "- ожидаемый выигрыш второго $1/\\hat{f}+4$\n",
    "- равновесная стратегия первого игрока $Q^*=-\\hat{x}/\\hat{f}$"
   ]
  },
  {
   "cell_type": "code",
   "execution_count": 8,
   "id": "b60ef874",
   "metadata": {},
   "outputs": [
    {
     "data": {
      "text/plain": [
       "(array([0.58333333, 0.41666667]), 0.08333333333333393)"
      ]
     },
     "execution_count": 8,
     "metadata": {},
     "output_type": "execute_result"
    }
   ],
   "source": [
    "c = np.array([-1, -1])\n",
    "b = np.array([1, 1])\n",
    "\n",
    "shift = 4\n",
    "\n",
    "res = linprog(c, A_ub=A+shift, b_ub=b)\n",
    "\n",
    "# ожидаемы выигрыш первого = -value1\n",
    "value2 = 1/res.fun+shift\n",
    "# равновесная стратегия\n",
    "Q_star = -res.x/res.fun\n",
    "\n",
    "Q_star, value2"
   ]
  }
 ],
 "metadata": {
  "kernelspec": {
   "display_name": "Python 3 (ipykernel)",
   "language": "python",
   "name": "python3"
  },
  "language_info": {
   "codemirror_mode": {
    "name": "ipython",
    "version": 3
   },
   "file_extension": ".py",
   "mimetype": "text/x-python",
   "name": "python",
   "nbconvert_exporter": "python",
   "pygments_lexer": "ipython3",
   "version": "3.12.2"
  }
 },
 "nbformat": 4,
 "nbformat_minor": 5
}
