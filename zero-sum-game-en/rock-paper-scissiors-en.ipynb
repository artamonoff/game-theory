{
  "cells": [
    {
      "cell_type": "markdown",
      "metadata": {},
      "source": [
        "# Game \"Rock-Paper-Scissors\"\n",
        "Let the payoff be 1\n",
        "\n",
        "Game in normal form\n",
        "\n",
        "||R2|P2|S2|\n",
        "|-|-|-|-|\n",
        "|R1|0,0|1,-1|-1,1|\n",
        "|P1|-1,1|0,0|1,-1|\n",
        "|S1|1,-1|-1,1|0,0|\n",
        "\n",
        "Payoff matrix\n",
        "$$\n",
        "\tA=\\begin{pmatrix} 0 & 1 & -1 \\\\ -1 & 0 & 1 \\\\ 1 & -1 & 0\\end{pmatrix}\n",
        "$$"
      ]
    },
    {
      "cell_type": "code",
      "execution_count": 1,
      "metadata": {
        "id": "sowcs7TlQzp-"
      },
      "outputs": [],
      "source": [
        "import numpy as np\n",
        "from scipy.optimize import linprog"
      ]
    },
    {
      "cell_type": "code",
      "execution_count": 2,
      "metadata": {},
      "outputs": [
        {
          "name": "stdout",
          "output_type": "stream",
          "text": [
            "[[ 0  1 -1]\n",
            " [-1  0  1]\n",
            " [ 1 -1  0]]\n"
          ]
        }
      ],
      "source": [
        "# payoff matrix\n",
        "A = np.array([[0, 1, -1], [-1, 0, 1], [1, -1, 0]])\n",
        "print(A)"
      ]
    },
    {
      "cell_type": "markdown",
      "metadata": {
        "id": "EcL14DWKQ7VQ"
      },
      "source": [
        "## First player"
      ]
    },
    {
      "cell_type": "code",
      "execution_count": 3,
      "metadata": {
        "colab": {
          "base_uri": "https://localhost:8080/"
        },
        "id": "arvAGEY3RAah",
        "outputId": "4a77191e-5faf-4725-b2f4-7bdfc3d1808b"
      },
      "outputs": [
        {
          "data": {
            "text/plain": [
              "(array([0.33333333, 0.33333333, 0.33333333]), 0.0)"
            ]
          },
          "execution_count": 3,
          "metadata": {},
          "output_type": "execute_result"
        }
      ],
      "source": [
        "c = np.full(shape=3, fill_value=1)\n",
        "b = np.full(shape=3, fill_value=-1)\n",
        "\n",
        "shift = 2\n",
        "\n",
        "res = linprog(c, A_ub=-A.T-shift, b_ub=b)\n",
        "\n",
        "# value of the game\n",
        "value1 = 1/res.fun-shift\n",
        "# equilibrium strategy\n",
        "P_star = res.x/res.fun\n",
        "\n",
        "P_star, value1"
      ]
    },
    {
      "cell_type": "markdown",
      "metadata": {
        "id": "kgUtu_3qSsOs"
      },
      "source": [
        "## Second player"
      ]
    },
    {
      "cell_type": "code",
      "execution_count": 4,
      "metadata": {
        "colab": {
          "base_uri": "https://localhost:8080/"
        },
        "id": "5o5Njk1qSi20",
        "outputId": "deee81bc-205d-475f-a6a6-13d22b884d04"
      },
      "outputs": [
        {
          "data": {
            "text/plain": [
              "(array([0.33333333, 0.33333333, 0.33333333]), 0.0)"
            ]
          },
          "execution_count": 4,
          "metadata": {},
          "output_type": "execute_result"
        }
      ],
      "source": [
        "c = np.full(shape=3, fill_value=-1)\n",
        "b = np.full(shape=3, fill_value=1)\n",
        "\n",
        "shift = 4\n",
        "\n",
        "res = linprog(c, A_ub=A+shift, b_ub=b)\n",
        "\n",
        "# expected payoff of the first = -value1\n",
        "value2 = 1/res.fun+shift\n",
        "# equilibrium strategy\n",
        "Q_star = -res.x/res.fun\n",
        "\n",
        "Q_star, value2"
      ]
    }
  ],
  "metadata": {
    "colab": {
      "provenance": []
    },
    "kernelspec": {
      "display_name": "Python 3",
      "name": "python3"
    },
    "language_info": {
      "codemirror_mode": {
        "name": "ipython",
        "version": 3
      },
      "file_extension": ".py",
      "mimetype": "text/x-python",
      "name": "python",
      "nbconvert_exporter": "python",
      "pygments_lexer": "ipython3",
      "version": "3.11.6"
    }
  },
  "nbformat": 4,
  "nbformat_minor": 0
}