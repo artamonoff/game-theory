{
 "cells": [
  {
   "cell_type": "markdown",
   "metadata": {},
   "source": [
    "# Dominance"
   ]
  },
  {
   "cell_type": "code",
   "execution_count": null,
   "metadata": {
    "tags": []
   },
   "outputs": [],
   "source": [
    "import numpy as np"
   ]
  },
  {
   "cell_type": "markdown",
   "metadata": {},
   "source": [
    "Consider a zero-sum game with the matrix\n",
    "\n",
    "$$\n",
    "\tA=\\begin{pmatrix}\n",
    "\t-2 & 2 & -1 & 0 & 1 \\\\\n",
    "\t2 & 3 & 1 & 2 & 2 \\\\\n",
    "\t3 & -3 & 2 & 4 & 3 \\\\\n",
    "\t-2 & 1 & -2 & -1 & 0\n",
    "\t\\end{pmatrix}\n",
    "$$"
   ]
  },
  {
   "cell_type": "code",
   "execution_count": null,
   "metadata": {
    "tags": []
   },
   "outputs": [],
   "source": [
    "A = np.array([[-2, 2, -1, 0, 1], [2, 3, 1, 2, 2], [3, -3, 2, 4, 3], [-2, 1, -2, -1, 0]])\n",
    "A"
   ]
  },
  {
   "cell_type": "markdown",
   "metadata": {},
   "source": [
    "## Strong dominance for the first player"
   ]
  },
  {
   "cell_type": "code",
   "execution_count": null,
   "metadata": {
    "tags": []
   },
   "outputs": [],
   "source": [
    "# matrix size\n",
    "n, m = A.shape\n",
    "\n",
    "ind1 = []\n",
    "\n",
    "for i in range(n):\n",
    "\tfor j in range(n):\n",
    "\t\tif np.array( A[i,:]<A[j,:], dtype=int).sum() == m :\n",
    "\t\t\tif len(ind1)==0 :\n",
    "\t\t\t\tind1.append(i)\n",
    "\t\t\telif ind1[-1]!= i:\n",
    "\t\t\t\tind1.append(i)\n",
    "\n",
    "ind1"
   ]
  },
  {
   "cell_type": "markdown",
   "metadata": {},
   "source": [
    "## Strong dominance for the second player"
   ]
  },
  {
   "cell_type": "code",
   "execution_count": null,
   "metadata": {
    "tags": []
   },
   "outputs": [],
   "source": [
    "# matrix size\n",
    "n, m = A.shape\n",
    "\n",
    "ind2 = []\n",
    "\n",
    "for i in range(m):\n",
    "\tfor j in range(m):\n",
    "\t\tif np.array( A[:,i]>A[:,j], dtype=int).sum() == n:\n",
    "\t\t\tif len(ind2)==0 :\n",
    "\t\t\t\tind2.append(i)\n",
    "\t\t\telif ind2[-1]!= i:\n",
    "\t\t\t\tind2.append(i)\n",
    "\n",
    "ind2"
   ]
  },
  {
   "cell_type": "markdown",
   "metadata": {},
   "source": [
    "## Weak dominance for the first player"
   ]
  },
  {
   "cell_type": "code",
   "execution_count": null,
   "metadata": {
    "tags": []
   },
   "outputs": [],
   "source": [
    "# matrix size\n",
    "n, m = A.shape\n",
    "\n",
    "ind1 = []\n",
    "\n",
    "for i in range(n):\n",
    "\tfor j in range(n):\n",
    "\t\tif (np.array( A[i,:]<=A[j,:], dtype=int).sum() == m) & (np.array( A[i,:]==A[j,:], dtype=int).sum()<m):\n",
    "\t\t\tif len(ind1)==0 :\n",
    "\t\t\t\tind1.append(i)\n",
    "\t\t\telif ind1[-1]!= i:\n",
    "\t\t\t\tind1.append(i)\n",
    "\n",
    "ind1"
   ]
  },
  {
   "cell_type": "markdown",
   "metadata": {},
   "source": [
    "## Weak dominance for the second player"
   ]
  },
  {
   "cell_type": "code",
   "execution_count": null,
   "metadata": {
    "tags": []
   },
   "outputs": [],
   "source": [
    "# matrix size\n",
    "n, m = A.shape\n",
    "\n",
    "ind2 = []\n",
    "\n",
    "for i in range(m):\n",
    "\tfor j in range(m):\n",
    "\t\tif (np.array( A[:,i]>=A[:,j], dtype=int).sum() == n) & (np.array( A[:,i]==A[:,j], dtype=int).sum()<n):\n",
    "\t\t\tif len(ind2)==0 :\n",
    "\t\t\t\tind2.append(i)\n",
    "\t\t\telif ind2[-1]!= i:\n",
    "\t\t\t\tind2.append(i)\n",
    "\n",
    "ind2"
   ]
  },
  {
   "cell_type": "code",
   "execution_count": null,
   "metadata": {},
   "outputs": [],
   "source": [
    "# delete rows with indices\n",
    "A = np.delete(A, ind1, axis=0)"
   ]
  },
  {
   "cell_type": "code",
   "execution_count": null,
   "metadata": {},
   "outputs": [],
   "source": [
    "# delete columns with indices\n",
    "A = np.delete(A, ind2, axis=1)"
   ]
  }
 ],
 "metadata": {
  "kernelspec": {
   "display_name": "Python [conda env:courses]",
   "language": "python",
   "name": "conda-env-courses-py"
  },
  "language_info": {
   "codemirror_mode": {
    "name": "ipython",
    "version": 3
   },
   "file_extension": ".py",
   "mimetype": "text/x-python",
   "name": "python",
   "nbconvert_exporter": "python",
   "pygments_lexer": "ipython3",
   "version": "3.11.7"
  }
 },
 "nbformat": 4,
 "nbformat_minor": 4
}
