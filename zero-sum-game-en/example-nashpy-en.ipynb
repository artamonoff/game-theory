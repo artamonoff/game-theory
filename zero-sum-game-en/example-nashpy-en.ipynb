{
 "cells": [
  {
   "cell_type": "markdown",
   "id": "85a4a4f0",
   "metadata": {},
   "source": [
    "# Example 1 (Nashpy)"
   ]
  },
  {
   "cell_type": "code",
   "execution_count": 1,
   "id": "9757e791",
   "metadata": {},
   "outputs": [],
   "source": [
    "# If the nashpy library is not installed, run the command\n",
    "# conda install -c conda-forge nashpy\n",
    "# or\n",
    "# pip install nashpy"
   ]
  },
  {
   "cell_type": "code",
   "execution_count": 2,
   "id": "ff820147",
   "metadata": {},
   "outputs": [],
   "source": [
    "# Working with matrices\n",
    "import numpy as np\n",
    "# For finding equilibria\n",
    "import nashpy as nash"
   ]
  },
  {
   "cell_type": "markdown",
   "id": "956a75ed",
   "metadata": {},
   "source": [
    "Two players play for money, simultaneously naming one of the numbers 1 or 2, \n",
    "and then calculating the sum $S$. If $S$ is even, then the first player wins $S$ dollars from the second,\n",
    "if $S$ is odd, then the second wins $S$ dollars from the first. "
   ]
  },
  {
   "cell_type": "code",
   "execution_count": 3,
   "id": "f69c7538",
   "metadata": {
    "scrolled": true
   },
   "outputs": [
    {
     "name": "stdout",
     "output_type": "stream",
     "text": [
      "[[ 2 -3]\n",
      " [-3  4]]\n"
     ]
    }
   ],
   "source": [
    "# Pay-off matrix\n",
    "A = np.array([ [2, -3], [-3, 4] ])\n",
    "print(A)"
   ]
  },
  {
   "cell_type": "code",
   "execution_count": 4,
   "id": "1a510c5f",
   "metadata": {},
   "outputs": [
    {
     "name": "stdout",
     "output_type": "stream",
     "text": [
      "Zero sum game with payoff matrices:\n",
      "\n",
      "Row player:\n",
      "[[ 2 -3]\n",
      " [-3  4]]\n",
      "\n",
      "Column player:\n",
      "[[-2  3]\n",
      " [ 3 -4]]\n"
     ]
    }
   ],
   "source": [
    "# Define the game\n",
    "zsg = nash.Game(A)\n",
    "print(zsg)"
   ]
  },
  {
   "cell_type": "markdown",
   "id": "b7449ac5",
   "metadata": {},
   "source": [
    "## Expected Payoff\n",
    "Suppose players follow mixed strategies \n",
    "\\begin{align*}\n",
    "    P^\\top&=\\begin{pmatrix} 0.3 & 0.7\\end{pmatrix} & \n",
    "    Q^\\top&=\\begin{pmatrix} 0.25 & 0.75\\end{pmatrix}.\n",
    "\\end{align*}\n",
    "Expected payoff for each player:\n",
    "\n",
    "- Expected payoff of the first player $EU_A(P,Q)=P^\\top AQ$, \n",
    "- Expected payoff of the second player $EU_B(P,Q)=-EU_A(P,Q)$"
   ]
  },
  {
   "cell_type": "code",
   "execution_count": 5,
   "id": "00d5dcc0",
   "metadata": {},
   "outputs": [
    {
     "name": "stdout",
     "output_type": "stream",
     "text": [
      "[ 1.05 -1.05]\n"
     ]
    }
   ],
   "source": [
    "P = np.array([0.3, 0.7])\n",
    "Q = np.array([0.25, 0.75])\n",
    "# Expected payoff\n",
    "print(zsg[P,Q])"
   ]
  },
  {
   "cell_type": "markdown",
   "id": "130e45c0",
   "metadata": {},
   "source": [
    "## Nash Equilibrium in Mixed Strategies\n",
    "\n",
    "### method `.linear_program()`"
   ]
  },
  {
   "cell_type": "code",
   "execution_count": 6,
   "id": "0d6c51ef",
   "metadata": {},
   "outputs": [
    {
     "name": "stdout",
     "output_type": "stream",
     "text": [
      "Equilibrium mixed strategy of the first player:  [0.58333333 0.41666667]\n",
      "Equilibrium mixed strategy of the second player:  [0.58333333 0.41666667]\n",
      "Player payoffs: [-0.08333333  0.08333333]\n"
     ]
    }
   ],
   "source": [
    "nash_eq = zsg.linear_program() # solve linear programming problems\n",
    "\n",
    "print('Equilibrium mixed strategy of the first player: ', nash_eq[0])\n",
    "print('Equilibrium mixed strategy of the second player: ', nash_eq[1])\n",
    "print('Player payoffs:', zsg[nash_eq[0], nash_eq[1]])"
   ]
  },
  {
   "cell_type": "markdown",
   "id": "1b92affb",
   "metadata": {},
   "source": [
    "### method `.support_enumeration()`"
   ]
  },
  {
   "cell_type": "code",
   "execution_count": 7,
   "id": "14fa6923",
   "metadata": {},
   "outputs": [
    {
     "name": "stdout",
     "output_type": "stream",
     "text": [
      "Equilibrium mixed strategy of the first player:  [0.58333333 0.41666667]\n",
      "Equilibrium mixed strategy of the second player:  [0.58333333 0.41666667]\n",
      "Player payoffs:  [-0.08333333  0.08333333]\n"
     ]
    }
   ],
   "source": [
    "nash_eq = zsg.support_enumeration()\n",
    "\n",
    "for eq in nash_eq:\n",
    "\tprint('Equilibrium mixed strategy of the first player: ', eq[0])\n",
    "\tprint('Equilibrium mixed strategy of the second player: ', eq[1])\n",
    "\tprint('Player payoffs: ', zsg[eq])"
   ]
  }
 ],
 "metadata": {
  "kernelspec": {
   "display_name": "base",
   "language": "python",
   "name": "python3"
  },
  "language_info": {
   "codemirror_mode": {
    "name": "ipython",
    "version": 3
   },
   "file_extension": ".py",
   "mimetype": "text/x-python",
   "name": "python",
   "nbconvert_exporter": "python",
   "pygments_lexer": "ipython3",
   "version": "3.12.8"
  }
 },
 "nbformat": 4,
 "nbformat_minor": 5
}