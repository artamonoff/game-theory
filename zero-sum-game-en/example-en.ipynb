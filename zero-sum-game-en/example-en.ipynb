{
 "cells": [
  {
   "cell_type": "markdown",
   "id": "9be69c90",
   "metadata": {},
   "source": [
    "# Example 1"
   ]
  },
  {
   "cell_type": "code",
   "execution_count": 1,
   "id": "ddb5bcf1",
   "metadata": {},
   "outputs": [],
   "source": [
    "# Working with matrices\n",
    "import numpy as np\n",
    "# Linear programming\n",
    "from scipy.optimize import linprog"
   ]
  },
  {
   "cell_type": "markdown",
   "id": "0ec75376",
   "metadata": {},
   "source": [
    "Two players play for money, simultaneously choosing one of the numbers 1 or 2, \n",
    "and then calculating the sum $S$. If $S$ is even, then the first player wins $S$ dollars from the second,\n",
    "if $S$ is odd, then the second wins $S$ dollars from the first. \n",
    "\n",
    "Game matrix\n",
    "$$\n",
    "\tA=\\begin{pmatrix} 2 & -3 \\\\ -3 & 4\\end{pmatrix}\n",
    "$$"
   ]
  },
  {
   "cell_type": "code",
   "execution_count": 2,
   "id": "3af92675",
   "metadata": {},
   "outputs": [
    {
     "name": "stdout",
     "output_type": "stream",
     "text": [
      "[[ 2 -3]\n",
      " [-3  4]]\n"
     ]
    }
   ],
   "source": [
    "# Pay-off matrix\n",
    "A = np.array([ [2, -3], [-3, 4] ])\n",
    "print(A)"
   ]
  },
  {
   "cell_type": "markdown",
   "id": "01201884",
   "metadata": {},
   "source": [
    "## Upper and lower value of the game\n",
    "\n",
    "\\begin{align*}\n",
    "    \\overline{\\nu}&=\\min_{j}\\max_i a_{ij} & \\underline{\\nu}&=\\max_i\\min_j a_{ij}\n",
    "\\end{align*}"
   ]
  },
  {
   "cell_type": "code",
   "execution_count": 3,
   "id": "8d18cdaf",
   "metadata": {},
   "outputs": [
    {
     "data": {
      "text/plain": [
       "-3"
      ]
     },
     "execution_count": 3,
     "metadata": {},
     "output_type": "execute_result"
    }
   ],
   "source": [
    "# Lower value of the game\n",
    "max( A.min(axis=1) )"
   ]
  },
  {
   "cell_type": "code",
   "execution_count": 4,
   "id": "a1a4feb1",
   "metadata": {},
   "outputs": [
    {
     "data": {
      "text/plain": [
       "2"
      ]
     },
     "execution_count": 4,
     "metadata": {},
     "output_type": "execute_result"
    }
   ],
   "source": [
    "# Upper value of the game\n",
    "min( A.max(axis=0) )"
   ]
  },
  {
   "cell_type": "markdown",
   "id": "b7a3146a",
   "metadata": {},
   "source": [
    "They are not equal $\\Longrightarrow$ no Nash equilibrium in pure strategies"
   ]
  },
  {
   "cell_type": "markdown",
   "id": "82697a47",
   "metadata": {},
   "source": [
    "## Nash Equilibrium in pure strategies"
   ]
  },
  {
   "cell_type": "code",
   "execution_count": 5,
   "id": "b53c47fd",
   "metadata": {},
   "outputs": [
    {
     "name": "stdout",
     "output_type": "stream",
     "text": [
      "[['No ' 'No ']\n",
      " ['No ' 'No ']]\n"
     ]
    }
   ],
   "source": [
    "Nash_eq = np.full(A.shape, 'No ')\n",
    "\n",
    "for i in range(A.shape[0]):\n",
    "    for j in range(A.shape[1]):\n",
    "        if (A[i,j]==max(A[:,j])) & (A[i,j]==min(A[i,:])):\n",
    "            Nash_eq[i,j]='Yes'\n",
    "\n",
    "print(Nash_eq)"
   ]
  },
  {
   "cell_type": "markdown",
   "id": "cbcdae4a",
   "metadata": {},
   "source": [
    "## Expected Payoff\n",
    "Suppose players follow mixed strategies \n",
    "\\begin{align*}\n",
    "    P^\\top&=\\begin{pmatrix} 0.3 & 0.7\\end{pmatrix} & \n",
    "    Q^\\top&=\\begin{pmatrix} 0.25 & 0.75\\end{pmatrix}.\n",
    "\\end{align*}\n",
    "Expected payoff for each player:\n",
    "\n",
    "- Expected payoff of the first player $EU_A(P,Q)=P^\\top AQ$\n",
    "- Expected payoff of the second player $EU_B(P,Q)=-EU_A(P,Q)$"
   ]
  },
  {
   "cell_type": "code",
   "execution_count": 6,
   "id": "d340fa5b",
   "metadata": {},
   "outputs": [
    {
     "data": {
      "text/plain": [
       "1.0499999999999998"
      ]
     },
     "execution_count": 6,
     "metadata": {},
     "output_type": "execute_result"
    }
   ],
   "source": [
    "P = np.array([0.3, 0.7])\n",
    "Q = np.array([0.25, 0.75])\n",
    "# Expected payoff. @ - matrix multiplication in numpy\n",
    "P.T@A@Q"
   ]
  },
  {
   "cell_type": "markdown",
   "id": "27c0c598",
   "metadata": {},
   "source": [
    "## Nash Equilibrium in Mixed Strategies\n",
    "The `scipy.optimize.linprog` library [solves](https://docs.scipy.org/doc/scipy/tutorial/optimize.html#linear-programming-linprog) linear programming problems in the form\n",
    "\\begin{gather*}\n",
    "    \\min c^\\top x \\\\ s.t.\\left\\{\\begin{aligned} \n",
    "    A_{ub}x &\\leq b_{ub} \\\\ A_{eq}x &= b_{eq} \\\\ l\\leq x&\\leq u\n",
    "    \\end{aligned}\\right.\n",
    "\\end{gather*}\n",
    "**Important**: by default, `linprog` uses non-negativity constraints for variables\n",
    "\n",
    "Matrix $A$ has negative elements $\\Longrightarrow$ for the optimization problem, all elements of matrix $A$ need to be shifted by the same amount to make them positive.\n",
    "For example, by 4 (variable `shift`).\n",
    "\n",
    "### First player\n",
    "The first player solves the optimization problem\n",
    "\\begin{gather*}\n",
    "    \\begin{gathered} \\min 1^\\top x\\\\ s.t. \\left\\{\\begin{aligned}\n",
    "    (A+4)^\\top x &\\geq 1 \\\\ x&\\geq0\n",
    "    \\end{aligned}\\right.\n",
    "    \\end{gathered} \\Longrightarrow \n",
    "    \\begin{gathered} \\min c^\\top x\\\\ s.t. \\left\\{\\begin{aligned}\n",
    "    A_{ub} x &\\leq b_{ub} \\\\ 0&\\leq x\n",
    "    \\end{aligned}\\right.\n",
    "    \\end{gathered}\n",
    "\\end{gather*}\n",
    "where $c^\\top=\\begin{pmatrix} 1 & 1 \\end{pmatrix}$, $b^\\top_{ub}=\\begin{pmatrix} -1 & -1 \\end{pmatrix}$, $A_{ub}=-A^\\top-4$\n",
    "\n",
    "Let in the minimization problem: $\\hat{x}$ - optimal solution, $\\hat{f}$ - optimal value of the objective function. Then\n",
    "\n",
    "- Value of the game (expected payoff of the first) $1/\\hat{f}-4$\n",
    "- equilibrium strategy of the first player $P^*=\\hat{x}/\\hat{f}$"
   ]
  },
  {
   "cell_type": "code",
   "execution_count": null,
   "id": "ab6b01e5",
   "metadata": {},
   "outputs": [
    {
     "data": {
      "text/plain": [
       "(array([0.58333333, 0.41666667]), -0.08333333333333304)"
      ]
     },
     "execution_count": 7,
     "metadata": {},
     "output_type": "execute_result"
    }
   ],
   "source": [
    "c = np.array([1,1])\n",
    "b = np.array([-1, -1])\n",
    "\n",
    "shift = 4\n",
    "\n",
    "res = linprog(c, A_ub=-A.T-shift, b_ub=b)\n",
    "\n",
    "# value of the game, expected payoff of the first\n",
    "value1 = 1/res.fun-shift\n",
    "# equilibrium strategy\n",
    "P_star = res.x/res.fun\n",
    "\n",
    "P_star, value1"
   ]
  },
  {
   "cell_type": "markdown",
   "id": "4354abdc",
   "metadata": {},
   "source": [
    "### Second player\n",
    "The second player solves the optimization problem\n",
    "\\begin{gather*}\n",
    "    \\begin{gathered} \\max 1^\\top y\\\\ s.t. \\left\\{\\begin{aligned}\n",
    "    (A+4) y &\\leq 1 \\\\ y&\\geq0\n",
    "    \\end{aligned}\\right.\n",
    "    \\end{gathered} \\Longrightarrow \n",
    "    \\begin{gathered} \\min c^\\top y\\\\ s.t. \\left\\{\\begin{aligned}\n",
    "    A_{ub} y &\\leq b_{ub} \\\\ 0&\\leq y\n",
    "    \\end{aligned}\\right.\n",
    "    \\end{gathered}\n",
    "\\end{gather*}\n",
    "where $c^\\top=\\begin{pmatrix} -1 & -1 \\end{pmatrix}$, $b^\\top_{ub}=\\begin{pmatrix} 1 & 1 \\end{pmatrix}$, $A_{ub}=A+4$\n",
    "\n",
    "Let in the minimization problem: $\\hat{x}$ - optimal solution, $\\hat{f}$ - optimal value of the objective function. Then\n",
    "\n",
    "- expected payoff of the second $1/\\hat{f}+4$\n",
    "- equilibrium strategy of the second player $Q^*=-\\hat{x}/\\hat{f}$"
   ]
  },
  {
   "cell_type": "code",
   "execution_count": null,
   "id": "b60ef874",
   "metadata": {},
   "outputs": [
    {
     "data": {
      "text/plain": [
       "(array([0.58333333, 0.41666667]), 0.08333333333333393)"
      ]
     },
     "execution_count": 8,
     "metadata": {},
     "output_type": "execute_result"
    }
   ],
   "source": [
    "c = np.array([-1, -1])\n",
    "b = np.array([1, 1])\n",
    "\n",
    "shift = 4\n",
    "\n",
    "res = linprog(c, A_ub=A+shift, b_ub=b)\n",
    "\n",
    "# expected payoff of the second = -value1\n",
    "value2 = 1/res.fun+shift\n",
    "# equilibrium strategy\n",
    "Q_star = -res.x/res.fun\n",
    "\n",
    "Q_star, value2"
   ]
  }
 ],
 "metadata": {
  "kernelspec": {
   "display_name": "Python 3 (ipykernel)",
   "language": "python",
   "name": "python3"
  },
  "language_info": {
   "codemirror_mode": {
    "name": "ipython",
    "version": 3
   },
   "file_extension": ".py",
   "mimetype": "text/x-python",
   "name": "python",
   "nbconvert_exporter": "python",
   "pygments_lexer": "ipython3",
   "version": "3.12.2"
  }
 },
 "nbformat": 4,
 "nbformat_minor": 5
}
