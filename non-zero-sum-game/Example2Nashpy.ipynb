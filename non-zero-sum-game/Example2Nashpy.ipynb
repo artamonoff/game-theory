{
 "cells": [
  {
   "cell_type": "markdown",
   "id": "1252ab53",
   "metadata": {},
   "source": [
    "# Пример 2 (Nashpy)"
   ]
  },
  {
   "cell_type": "code",
   "execution_count": null,
   "id": "25f9ee54",
   "metadata": {},
   "outputs": [],
   "source": [
    "# Если библиотека nashpy не установлена, то нужно выполнить команду\n",
    "# conda install -c conda-forge nashpy\n",
    "# или\n",
    "# pip install nashpy"
   ]
  },
  {
   "cell_type": "code",
   "execution_count": 1,
   "id": "07d07f68",
   "metadata": {},
   "outputs": [],
   "source": [
    "# Работа с матрицами\n",
    "import numpy as np\n",
    "# Для поиска равновесия\n",
    "import nashpy as nash"
   ]
  },
  {
   "cell_type": "markdown",
   "id": "5792c198",
   "metadata": {},
   "source": [
    "Рассморим игру в нормальной форме с матрицами\n",
    "\\begin{align*}\n",
    "    A&=\\begin{pmatrix} 6 & 4 \\\\ 8 & 3 \\end{pmatrix} &\n",
    "    B&=\\begin{pmatrix} 3 & 5 \\\\ 3 & 2 \\end{pmatrix}\n",
    "\\end{align*}\n",
    "или в виде таблицы\n",
    "\n",
    "| | $s_{-1}$ | $s_{-2}$ |\n",
    "|--|---|---|\n",
    "|$s_1$| (6,3) | (4,5)|\n",
    "|$s_2$| (8,3) | (3,2)|"
   ]
  },
  {
   "cell_type": "code",
   "execution_count": 2,
   "id": "18d14862",
   "metadata": {},
   "outputs": [
    {
     "data": {
      "text/plain": [
       "(array([[6, 4],\n",
       "        [8, 3]]),\n",
       " array([[3, 5],\n",
       "        [3, 2]]))"
      ]
     },
     "execution_count": 2,
     "metadata": {},
     "output_type": "execute_result"
    }
   ],
   "source": [
    "# Pay-off matrices\n",
    "A = np.array([ [6, 4], [8, 3] ])\n",
    "B = np.array([ [3, 5], [3, 2] ])\n",
    "A, B"
   ]
  },
  {
   "cell_type": "code",
   "execution_count": 3,
   "id": "c8068225",
   "metadata": {},
   "outputs": [
    {
     "name": "stdout",
     "output_type": "stream",
     "text": [
      "Bi matrix game with payoff matrices:\n",
      "\n",
      "Row player:\n",
      "[[6 4]\n",
      " [8 3]]\n",
      "\n",
      "Column player:\n",
      "[[3 5]\n",
      " [3 2]]\n"
     ]
    }
   ],
   "source": [
    "# Задаём игру\n",
    "nzsg = nash.Game(A,B)\n",
    "print(nzsg)"
   ]
  },
  {
   "cell_type": "markdown",
   "id": "45d04cab",
   "metadata": {},
   "source": [
    "## Ожидаемый выигрыш\n",
    "Предположим, что игроки следуют смешанным стратегиям \n",
    "\\begin{align*}\n",
    "    P^\\top&=\\begin{pmatrix} 0.7 & 0.3\\end{pmatrix} & \n",
    "    Q^\\top&=\\begin{pmatrix} 0.35 & 0.65\\end{pmatrix}.\n",
    "\\end{align*}    \n",
    "Ожидаемый выигрыш каждого из игроков:\n",
    "\n",
    "- Ожидаемый выигрыш первого $EU_A(P,Q)=P^\\top AQ$\n",
    "- Ожидаемый выигрыш второго $EU_B(P,Q)=P^\\top BQ$"
   ]
  },
  {
   "cell_type": "code",
   "execution_count": 4,
   "id": "1e1c2083",
   "metadata": {},
   "outputs": [
    {
     "name": "stdout",
     "output_type": "stream",
     "text": [
      "[4.715 3.715]\n"
     ]
    }
   ],
   "source": [
    "P = np.array([0.7, 0.3])\n",
    "Q = np.array([0.35, 0.65])\n",
    "print(nzsg[P,Q])"
   ]
  },
  {
   "cell_type": "markdown",
   "id": "d27d6ba8",
   "metadata": {},
   "source": [
    "## Равновесие Нэша в чистых и смешанных стратегиях"
   ]
  },
  {
   "cell_type": "code",
   "execution_count": 5,
   "id": "5898ed43",
   "metadata": {},
   "outputs": [
    {
     "name": "stdout",
     "output_type": "stream",
     "text": [
      "(array([1., 0.]), array([0., 1.]))\n",
      "[4. 5.]\n",
      "(array([0., 1.]), array([1., 0.]))\n",
      "[8. 3.]\n",
      "(array([0.33333333, 0.66666667]), array([0.33333333, 0.66666667]))\n",
      "[4.66666667 3.        ]\n"
     ]
    }
   ],
   "source": [
    "nash_eq = nzsg.support_enumeration()\n",
    "\n",
    "for eq in nash_eq:\n",
    "    print(eq)\n",
    "    print(nzsg[eq])"
   ]
  }
 ],
 "metadata": {
  "kernelspec": {
   "display_name": "Python 3 (ipykernel)",
   "language": "python",
   "name": "python3"
  },
  "language_info": {
   "codemirror_mode": {
    "name": "ipython",
    "version": 3
   },
   "file_extension": ".py",
   "mimetype": "text/x-python",
   "name": "python",
   "nbconvert_exporter": "python",
   "pygments_lexer": "ipython3",
   "version": "3.9.15"
  }
 },
 "nbformat": 4,
 "nbformat_minor": 5
}
