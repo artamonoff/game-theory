{
 "cells": [
  {
   "cell_type": "markdown",
   "metadata": {},
   "source": [
    "# Доминирование для игр с ненулевой суммой"
   ]
  },
  {
   "cell_type": "code",
   "execution_count": null,
   "metadata": {
    "tags": []
   },
   "outputs": [],
   "source": [
    "import numpy as np"
   ]
  },
  {
   "cell_type": "markdown",
   "metadata": {},
   "source": [
    "Рассморим игру в нормальной форме с матрицами\n",
    "\\begin{align*}\n",
    "    A&=\\begin{pmatrix} 6 & 4 \\\\ 8 & 3 \\end{pmatrix} &\n",
    "    B&=\\begin{pmatrix} 3 & 5 \\\\ 3 & 2 \\end{pmatrix}\n",
    "\\end{align*}\n",
    "или в виде таблицы\n",
    "\n",
    "| | $s_{-1}$ | $s_{-2}$ |\n",
    "|--|---|---|\n",
    "|$s_1$| (6,3) | (4,5)|\n",
    "|$s_2$| (8,3) | (3,2)|\n"
   ]
  },
  {
   "cell_type": "code",
   "execution_count": null,
   "metadata": {
    "tags": []
   },
   "outputs": [],
   "source": [
    "# Pay-off matrices\n",
    "A = np.array([ [6, 4], [8, 3] ])\n",
    "B = np.array([ [3, 5], [3, 2] ])\n",
    "A, B"
   ]
  },
  {
   "cell_type": "markdown",
   "metadata": {},
   "source": [
    "## Строгое доминирования для первого игрока"
   ]
  },
  {
   "cell_type": "code",
   "execution_count": null,
   "metadata": {
    "tags": []
   },
   "outputs": [],
   "source": [
    "# размер матрицы\n",
    "n, m = A.shape\n",
    "\n",
    "ind1 = []\n",
    "\n",
    "for i in range(n):\n",
    "\tfor j in range(n):\n",
    "\t\tif np.array( A[i,:]<A[j,:], dtype=int).sum() == m :\n",
    "\t\t\tif len(ind1)==0 :\n",
    "\t\t\t\tind1.append(i)\n",
    "\t\t\telif ind1[-1]!= i:\n",
    "\t\t\t\tind1.append(i)\n",
    "\n",
    "ind1"
   ]
  },
  {
   "cell_type": "markdown",
   "metadata": {},
   "source": [
    "## Строгое доминирования для второго игрока"
   ]
  },
  {
   "cell_type": "code",
   "execution_count": null,
   "metadata": {
    "tags": []
   },
   "outputs": [],
   "source": [
    "# размер матрицы\n",
    "n, m = B.shape\n",
    "\n",
    "ind2 = []\n",
    "\n",
    "for i in range(m):\n",
    "\tfor j in range(m):\n",
    "\t\tif np.array( B[:,i]<B[:,j], dtype=int).sum() == n:\n",
    "\t\t\tif len(ind2)==0 :\n",
    "\t\t\t\tind2.append(i)\n",
    "\t\t\telif ind2[-1]!= i:\n",
    "\t\t\t\tind2.append(i)\n",
    "\n",
    "ind2"
   ]
  },
  {
   "cell_type": "code",
   "execution_count": null,
   "metadata": {},
   "outputs": [],
   "source": [
    "# удалим строки с индексами\n",
    "A = np.delete(A, ind1, axis=0)"
   ]
  },
  {
   "cell_type": "code",
   "execution_count": null,
   "metadata": {},
   "outputs": [],
   "source": [
    "# удалим столбцы с индексами\n",
    "A = np.delete(A, ind2, axis=1)"
   ]
  }
 ],
 "metadata": {
  "kernelspec": {
   "display_name": "Python 3",
   "language": "python",
   "name": "python3"
  },
  "language_info": {
   "codemirror_mode": {
    "name": "ipython",
    "version": 3
   },
   "file_extension": ".py",
   "mimetype": "text/x-python",
   "name": "python",
   "nbconvert_exporter": "python",
   "pygments_lexer": "ipython3",
   "version": "3.12.3"
  }
 },
 "nbformat": 4,
 "nbformat_minor": 4
}
