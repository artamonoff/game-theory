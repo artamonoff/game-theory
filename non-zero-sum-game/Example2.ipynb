{
 "cells": [
  {
   "cell_type": "markdown",
   "id": "13f3b959",
   "metadata": {},
   "source": [
    "# Пример 2"
   ]
  },
  {
   "cell_type": "code",
   "execution_count": 1,
   "id": "35d6f4d9",
   "metadata": {},
   "outputs": [],
   "source": [
    "# Работа с матрицами\n",
    "import numpy as np"
   ]
  },
  {
   "cell_type": "markdown",
   "id": "73f92553",
   "metadata": {},
   "source": [
    "Рассморим игру в нормальной форме с матрицами\n",
    "\\begin{align*}\n",
    "    A&=\\begin{pmatrix} 6 & 4 \\\\ 8 & 3 \\end{pmatrix} &\n",
    "    B&=\\begin{pmatrix} 3 & 5 \\\\ 3 & 2 \\end{pmatrix}\n",
    "\\end{align*}\n",
    "или в виде таблицы\n",
    "\n",
    "| | $s_{-1}$ | $s_{-2}$ |\n",
    "|--|---|---|\n",
    "|$s_1$| (6,3) | (4,5)|\n",
    "|$s_2$| (8,3) | (3,2)|"
   ]
  },
  {
   "cell_type": "code",
   "execution_count": 2,
   "id": "4387b251",
   "metadata": {},
   "outputs": [
    {
     "data": {
      "text/plain": [
       "(array([[6, 4],\n",
       "        [8, 3]]),\n",
       " array([[3, 5],\n",
       "        [3, 2]]))"
      ]
     },
     "execution_count": 2,
     "metadata": {},
     "output_type": "execute_result"
    }
   ],
   "source": [
    "# Pay-off matrices\n",
    "A = np.array([ [6, 4], [8, 3] ])\n",
    "B = np.array([ [3, 5], [3, 2] ])\n",
    "A, B"
   ]
  },
  {
   "cell_type": "markdown",
   "id": "da283fb0",
   "metadata": {},
   "source": [
    "## Ожидаемый выигрыш\n",
    "Предположим, что игроки следуют смешанным стратегиям \n",
    "\\begin{align*}\n",
    "    P^\\top&=\\begin{pmatrix} 0.7 & 0.3\\end{pmatrix} & \n",
    "    Q^\\top&=\\begin{pmatrix} 0.35 & 0.65\\end{pmatrix}.\n",
    "\\end{align*}    \n",
    "Ожидаемый выигрыш каждого из игроков:\n",
    "\n",
    "- Ожидаемый выигрыш первого $EU_A(P,Q)=P^\\top AQ$\n",
    "- Ожидаемый выигрыш второго $EU_B(P,Q)=P^\\top BQ$"
   ]
  },
  {
   "cell_type": "code",
   "execution_count": 3,
   "id": "69d46190",
   "metadata": {},
   "outputs": [
    {
     "data": {
      "text/plain": [
       "(4.715, 3.715)"
      ]
     },
     "execution_count": 3,
     "metadata": {},
     "output_type": "execute_result"
    }
   ],
   "source": [
    "P = np.array([0.7, 0.3])\n",
    "Q = np.array([0.35, 0.65])\n",
    "# Ожидаемый выигрыш. @ - матричное умножение в numpy\n",
    "P.T@A@Q, P.T@B@Q"
   ]
  },
  {
   "cell_type": "markdown",
   "id": "b615c542",
   "metadata": {},
   "source": [
    "## Равновесие Нэша в чистых стратегиях"
   ]
  },
  {
   "cell_type": "code",
   "execution_count": 4,
   "id": "51b16ba8",
   "metadata": {},
   "outputs": [
    {
     "name": "stdout",
     "output_type": "stream",
     "text": [
      "[['No ' 'Yes']\n",
      " ['Yes' 'No ']]\n"
     ]
    }
   ],
   "source": [
    "Nash_eq = np.full(A.shape, 'No ')\n",
    "for i in range(A.shape[0]):\n",
    "    for j in range(A.shape[1]):\n",
    "        if (A[i,j]==max(A[:,j])) & (B[i,j]==max(B[i,:])):\n",
    "            Nash_eq[i,j]='Yes'\n",
    "print(Nash_eq)"
   ]
  }
 ],
 "metadata": {
  "kernelspec": {
   "display_name": "Python 3 (ipykernel)",
   "language": "python",
   "name": "python3"
  },
  "language_info": {
   "codemirror_mode": {
    "name": "ipython",
    "version": 3
   },
   "file_extension": ".py",
   "mimetype": "text/x-python",
   "name": "python",
   "nbconvert_exporter": "python",
   "pygments_lexer": "ipython3",
   "version": "3.11.1"
  }
 },
 "nbformat": 4,
 "nbformat_minor": 5
}
