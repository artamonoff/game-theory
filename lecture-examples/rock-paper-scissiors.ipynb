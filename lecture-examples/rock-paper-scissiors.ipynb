{
  "nbformat": 4,
  "nbformat_minor": 0,
  "metadata": {
    "colab": {
      "provenance": []
    },
    "kernelspec": {
      "name": "python3",
      "display_name": "Python 3"
    },
    "language_info": {
      "name": "python"
    }
  },
  "cells": [
    {
      "cell_type": "code",
      "execution_count": null,
      "metadata": {
        "id": "sowcs7TlQzp-"
      },
      "outputs": [],
      "source": [
        "import numpy as np\n",
        "from scipy.optimize import linprog"
      ]
    },
    {
      "cell_type": "markdown",
      "source": [
        "## Первый игнок"
      ],
      "metadata": {
        "id": "EcL14DWKQ7VQ"
      }
    },
    {
      "cell_type": "code",
      "source": [
        "c = np.array([-1, -1, -1])\n",
        "\n",
        "b = np.array([1, 1, 1])\n",
        "\n",
        "A = np.array([[5, 4, 6], [6, 5, 4], [4, 6, 5]])\n",
        "\n",
        "res = linprog(c, A_ub=A, b_ub=b)\n",
        "\n",
        "res"
      ],
      "metadata": {
        "colab": {
          "base_uri": "https://localhost:8080/"
        },
        "id": "arvAGEY3RAah",
        "outputId": "4a77191e-5faf-4725-b2f4-7bdfc3d1808b"
      },
      "execution_count": null,
      "outputs": [
        {
          "output_type": "execute_result",
          "data": {
            "text/plain": [
              "        message: Optimization terminated successfully. (HiGHS Status 7: Optimal)\n",
              "        success: True\n",
              "         status: 0\n",
              "            fun: -0.2\n",
              "              x: [ 6.667e-02  6.667e-02  6.667e-02]\n",
              "            nit: 3\n",
              "          lower:  residual: [ 6.667e-02  6.667e-02  6.667e-02]\n",
              "                 marginals: [ 0.000e+00  0.000e+00  0.000e+00]\n",
              "          upper:  residual: [       inf        inf        inf]\n",
              "                 marginals: [ 0.000e+00  0.000e+00  0.000e+00]\n",
              "          eqlin:  residual: []\n",
              "                 marginals: []\n",
              "        ineqlin:  residual: [ 0.000e+00  0.000e+00  0.000e+00]\n",
              "                 marginals: [-6.667e-02 -6.667e-02 -6.667e-02]\n",
              " mip_node_count: 0\n",
              " mip_dual_bound: 0.0\n",
              "        mip_gap: 0.0"
            ]
          },
          "metadata": {},
          "execution_count": 2
        }
      ]
    },
    {
      "cell_type": "code",
      "source": [
        "res.x"
      ],
      "metadata": {
        "colab": {
          "base_uri": "https://localhost:8080/"
        },
        "id": "3Nz1EI-OR3xp",
        "outputId": "bec7ccfc-e43b-4f57-f49d-a19ebdcbff14"
      },
      "execution_count": null,
      "outputs": [
        {
          "output_type": "execute_result",
          "data": {
            "text/plain": [
              "array([0.06666667, 0.06666667, 0.06666667])"
            ]
          },
          "metadata": {},
          "execution_count": 3
        }
      ]
    },
    {
      "cell_type": "code",
      "source": [
        "res.fun"
      ],
      "metadata": {
        "colab": {
          "base_uri": "https://localhost:8080/"
        },
        "id": "airpJERCR4uI",
        "outputId": "9cdaaa53-a33b-4ddc-d310-453db98dd0fb"
      },
      "execution_count": null,
      "outputs": [
        {
          "output_type": "execute_result",
          "data": {
            "text/plain": [
              "-0.2"
            ]
          },
          "metadata": {},
          "execution_count": 4
        }
      ]
    },
    {
      "cell_type": "code",
      "source": [
        "# вероятости первого игрока\n",
        "-res.x/res.fun"
      ],
      "metadata": {
        "colab": {
          "base_uri": "https://localhost:8080/"
        },
        "id": "MVUHkADFR7tG",
        "outputId": "f49a272b-b4f5-4a98-9e40-d16ea178962f"
      },
      "execution_count": null,
      "outputs": [
        {
          "output_type": "execute_result",
          "data": {
            "text/plain": [
              "array([0.33333333, 0.33333333, 0.33333333])"
            ]
          },
          "metadata": {},
          "execution_count": 5
        }
      ]
    },
    {
      "cell_type": "code",
      "source": [
        "#  Цена игры\n",
        "-1/res.fun-5"
      ],
      "metadata": {
        "colab": {
          "base_uri": "https://localhost:8080/"
        },
        "id": "gE7uERcTSOgW",
        "outputId": "19ec29db-ec83-4b28-d007-15b768751914"
      },
      "execution_count": null,
      "outputs": [
        {
          "output_type": "execute_result",
          "data": {
            "text/plain": [
              "0.0"
            ]
          },
          "metadata": {},
          "execution_count": 6
        }
      ]
    },
    {
      "cell_type": "markdown",
      "source": [
        "## Второй игрок"
      ],
      "metadata": {
        "id": "kgUtu_3qSsOs"
      }
    },
    {
      "cell_type": "code",
      "source": [
        "c = np.array([1, 1, 1])\n",
        "\n",
        "b = np.array([-1, -1, -1])\n",
        "\n",
        "A = -np.array([[5, 6, 4], [4, 5, 6], [6, 4, 5]])\n",
        "\n",
        "res = linprog(c, A_ub=A, b_ub=b)\n",
        "\n",
        "res"
      ],
      "metadata": {
        "colab": {
          "base_uri": "https://localhost:8080/"
        },
        "id": "5o5Njk1qSi20",
        "outputId": "deee81bc-205d-475f-a6a6-13d22b884d04"
      },
      "execution_count": null,
      "outputs": [
        {
          "output_type": "execute_result",
          "data": {
            "text/plain": [
              "        message: Optimization terminated successfully. (HiGHS Status 7: Optimal)\n",
              "        success: True\n",
              "         status: 0\n",
              "            fun: 0.2\n",
              "              x: [ 6.667e-02  6.667e-02  6.667e-02]\n",
              "            nit: 3\n",
              "          lower:  residual: [ 6.667e-02  6.667e-02  6.667e-02]\n",
              "                 marginals: [ 0.000e+00  0.000e+00  0.000e+00]\n",
              "          upper:  residual: [       inf        inf        inf]\n",
              "                 marginals: [ 0.000e+00  0.000e+00  0.000e+00]\n",
              "          eqlin:  residual: []\n",
              "                 marginals: []\n",
              "        ineqlin:  residual: [ 0.000e+00  0.000e+00  0.000e+00]\n",
              "                 marginals: [-6.667e-02 -6.667e-02 -6.667e-02]\n",
              " mip_node_count: 0\n",
              " mip_dual_bound: 0.0\n",
              "        mip_gap: 0.0"
            ]
          },
          "metadata": {},
          "execution_count": 8
        }
      ]
    },
    {
      "cell_type": "code",
      "source": [
        "# вероятости первого игрока\n",
        "res.x/res.fun"
      ],
      "metadata": {
        "colab": {
          "base_uri": "https://localhost:8080/"
        },
        "id": "gE7UPRWgTNfl",
        "outputId": "78644481-b1f9-464a-a911-b35eef2e886e"
      },
      "execution_count": null,
      "outputs": [
        {
          "output_type": "execute_result",
          "data": {
            "text/plain": [
              "array([0.33333333, 0.33333333, 0.33333333])"
            ]
          },
          "metadata": {},
          "execution_count": 9
        }
      ]
    },
    {
      "cell_type": "code",
      "source": [
        "#  Цена игры\n",
        "1/res.fun-5"
      ],
      "metadata": {
        "colab": {
          "base_uri": "https://localhost:8080/"
        },
        "id": "io29xcuRTP9a",
        "outputId": "55893a4f-a8c2-4de2-ed56-c2849d6f7b69"
      },
      "execution_count": null,
      "outputs": [
        {
          "output_type": "execute_result",
          "data": {
            "text/plain": [
              "0.0"
            ]
          },
          "metadata": {},
          "execution_count": 10
        }
      ]
    },
    {
      "cell_type": "code",
      "source": [],
      "metadata": {
        "id": "vhwi0KbdTTrb"
      },
      "execution_count": null,
      "outputs": []
    }
  ]
}